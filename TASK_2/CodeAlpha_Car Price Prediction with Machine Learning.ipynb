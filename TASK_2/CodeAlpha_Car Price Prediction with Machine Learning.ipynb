{
 "cells": [
  {
   "cell_type": "markdown",
   "id": "80899641-8c76-4de6-9e27-6e0d7797aa2c",
   "metadata": {},
   "source": [
    "                                               Car Price Prediction with Machine Learning"
   ]
  },
  {
   "cell_type": "code",
   "execution_count": 26,
   "id": "7b8d687a-7956-42e1-abc2-e5addffc368f",
   "metadata": {},
   "outputs": [],
   "source": [
    "import pandas as pd\n",
    "import numpy as np\n",
    "import matplotlib.pyplot as plt\n",
    "import seaborn as sns"
   ]
  },
  {
   "cell_type": "code",
   "execution_count": 27,
   "id": "da5cdbf5-5377-4e6e-8acd-b3b8610b6ecf",
   "metadata": {},
   "outputs": [],
   "source": [
    "from sklearn.model_selection import train_test_split\n",
    "from sklearn.linear_model import LinearRegression\n",
    "from sklearn.metrics import mean_squared_error, r2_score"
   ]
  },
  {
   "cell_type": "code",
   "execution_count": 25,
   "id": "65293c05-8c5c-4ab9-91ff-5461b1a8b9c1",
   "metadata": {},
   "outputs": [
    {
     "name": "stdout",
     "output_type": "stream",
     "text": [
      "  Car_Name  Year  Selling_Price  Present_Price  Driven_kms Fuel_Type  \\\n",
      "0     ritz  2014           3.35           5.59       27000    Petrol   \n",
      "1      sx4  2013           4.75           9.54       43000    Diesel   \n",
      "2     ciaz  2017           7.25           9.85        6900    Petrol   \n",
      "3  wagon r  2011           2.85           4.15        5200    Petrol   \n",
      "4    swift  2014           4.60           6.87       42450    Diesel   \n",
      "\n",
      "  Selling_type Transmission  Owner  \n",
      "0       Dealer       Manual      0  \n",
      "1       Dealer       Manual      0  \n",
      "2       Dealer       Manual      0  \n",
      "3       Dealer       Manual      0  \n",
      "4       Dealer       Manual      0  \n",
      "<class 'pandas.core.frame.DataFrame'>\n",
      "RangeIndex: 301 entries, 0 to 300\n",
      "Data columns (total 9 columns):\n",
      " #   Column         Non-Null Count  Dtype  \n",
      "---  ------         --------------  -----  \n",
      " 0   Car_Name       301 non-null    object \n",
      " 1   Year           301 non-null    int64  \n",
      " 2   Selling_Price  301 non-null    float64\n",
      " 3   Present_Price  301 non-null    float64\n",
      " 4   Driven_kms     301 non-null    int64  \n",
      " 5   Fuel_Type      301 non-null    object \n",
      " 6   Selling_type   301 non-null    object \n",
      " 7   Transmission   301 non-null    object \n",
      " 8   Owner          301 non-null    int64  \n",
      "dtypes: float64(2), int64(3), object(4)\n",
      "memory usage: 21.3+ KB\n",
      "None\n",
      "              Year  Selling_Price  Present_Price     Driven_kms       Owner\n",
      "count   301.000000     301.000000     301.000000     301.000000  301.000000\n",
      "mean   2013.627907       4.661296       7.628472   36947.205980    0.043189\n",
      "std       2.891554       5.082812       8.642584   38886.883882    0.247915\n",
      "min    2003.000000       0.100000       0.320000     500.000000    0.000000\n",
      "25%    2012.000000       0.900000       1.200000   15000.000000    0.000000\n",
      "50%    2014.000000       3.600000       6.400000   32000.000000    0.000000\n",
      "75%    2016.000000       6.000000       9.900000   48767.000000    0.000000\n",
      "max    2018.000000      35.000000      92.600000  500000.000000    3.000000\n"
     ]
    }
   ],
   "source": [
    "data = pd.read_csv('car data.csv')\n",
    "\n",
    "print(data.head())  \n",
    "print(data.info())  \n",
    "print(data.describe())"
   ]
  },
  {
   "cell_type": "code",
   "execution_count": 28,
   "id": "ed40a2f6-a37a-4b91-b3dd-28d4c8dd8724",
   "metadata": {},
   "outputs": [
    {
     "name": "stdout",
     "output_type": "stream",
     "text": [
      "Car_Name         0\n",
      "Year             0\n",
      "Selling_Price    0\n",
      "Present_Price    0\n",
      "Driven_kms       0\n",
      "Fuel_Type        0\n",
      "Selling_type     0\n",
      "Transmission     0\n",
      "Owner            0\n",
      "dtype: int64\n"
     ]
    }
   ],
   "source": [
    "print(data.isnull().sum())\n",
    "\n",
    "data = data.dropna()"
   ]
  },
  {
   "cell_type": "code",
   "execution_count": 29,
   "id": "81de8cca-0fed-4d3c-9a27-23524425dc9f",
   "metadata": {},
   "outputs": [
    {
     "name": "stdout",
     "output_type": "stream",
     "text": [
      "   Year  Selling_Price  Present_Price  Driven_kms  Owner  Car_Name_Activa 3g  \\\n",
      "0  2014           3.35           5.59       27000      0               False   \n",
      "1  2013           4.75           9.54       43000      0               False   \n",
      "2  2017           7.25           9.85        6900      0               False   \n",
      "3  2011           2.85           4.15        5200      0               False   \n",
      "4  2014           4.60           6.87       42450      0               False   \n",
      "\n",
      "   Car_Name_Activa 4g  Car_Name_Bajaj  ct 100  Car_Name_Bajaj Avenger 150  \\\n",
      "0               False                   False                       False   \n",
      "1               False                   False                       False   \n",
      "2               False                   False                       False   \n",
      "3               False                   False                       False   \n",
      "4               False                   False                       False   \n",
      "\n",
      "   Car_Name_Bajaj Avenger 150 street  ...  Car_Name_swift  Car_Name_sx4  \\\n",
      "0                              False  ...           False         False   \n",
      "1                              False  ...           False          True   \n",
      "2                              False  ...           False         False   \n",
      "3                              False  ...           False         False   \n",
      "4                              False  ...            True         False   \n",
      "\n",
      "   Car_Name_verna  Car_Name_vitara brezza  Car_Name_wagon r  Car_Name_xcent  \\\n",
      "0           False                   False             False           False   \n",
      "1           False                   False             False           False   \n",
      "2           False                   False             False           False   \n",
      "3           False                   False              True           False   \n",
      "4           False                   False             False           False   \n",
      "\n",
      "   Fuel_Type_Diesel  Fuel_Type_Petrol  Selling_type_Individual  \\\n",
      "0             False              True                    False   \n",
      "1              True             False                    False   \n",
      "2             False              True                    False   \n",
      "3             False              True                    False   \n",
      "4              True             False                    False   \n",
      "\n",
      "   Transmission_Manual  \n",
      "0                 True  \n",
      "1                 True  \n",
      "2                 True  \n",
      "3                 True  \n",
      "4                 True  \n",
      "\n",
      "[5 rows x 106 columns]\n"
     ]
    }
   ],
   "source": [
    "data_encoded = pd.get_dummies(data, drop_first=True)\n",
    "print(data_encoded.head())"
   ]
  },
  {
   "cell_type": "code",
   "execution_count": 30,
   "id": "09b4f4da-5ecc-46dc-b778-641a649a562f",
   "metadata": {},
   "outputs": [],
   "source": [
    "from sklearn.preprocessing import StandardScaler\n",
    "\n",
    "scaler = StandardScaler()\n",
    "scaled_features = scaler.fit_transform(data_encoded)"
   ]
  },
  {
   "cell_type": "code",
   "execution_count": 36,
   "id": "cbec9215-dbc8-4648-8a14-cab09dbc1952",
   "metadata": {},
   "outputs": [
    {
     "name": "stdout",
     "output_type": "stream",
     "text": [
      "Index(['Year', 'Selling_Price', 'Present_Price', 'Driven_kms', 'Owner',\n",
      "       'Car_Name_Activa 3g', 'Car_Name_Activa 4g', 'Car_Name_Bajaj  ct 100',\n",
      "       'Car_Name_Bajaj Avenger 150', 'Car_Name_Bajaj Avenger 150 street',\n",
      "       ...\n",
      "       'Car_Name_swift', 'Car_Name_sx4', 'Car_Name_verna',\n",
      "       'Car_Name_vitara brezza', 'Car_Name_wagon r', 'Car_Name_xcent',\n",
      "       'Fuel_Type_Diesel', 'Fuel_Type_Petrol', 'Selling_type_Individual',\n",
      "       'Transmission_Manual'],\n",
      "      dtype='object', length=106)\n"
     ]
    }
   ],
   "source": [
    "print(data_encoded.columns)"
   ]
  },
  {
   "cell_type": "code",
   "execution_count": 53,
   "id": "dfb90c7a-81c4-4684-afa0-bc937ba7acd8",
   "metadata": {},
   "outputs": [],
   "source": [
    "X = data_encoded.drop('Selling_Price', axis=1) \n",
    "y = data_encoded['Present_Price']\n",
    "\n",
    "X_train, X_test, y_train, y_test = train_test_split(X, y, test_size=0.2, random_state=42)"
   ]
  },
  {
   "cell_type": "code",
   "execution_count": 50,
   "id": "43698588-d34a-4442-be20-e4b8dab5e7c0",
   "metadata": {},
   "outputs": [
    {
     "name": "stdout",
     "output_type": "stream",
     "text": [
      "<bound method NDFrame.describe of     Car_Name  Year  Selling_Price  Present_Price  Driven_kms Fuel_Type  \\\n",
      "0       ritz  2014           3.35           5.59       27000    Petrol   \n",
      "1        sx4  2013           4.75           9.54       43000    Diesel   \n",
      "2       ciaz  2017           7.25           9.85        6900    Petrol   \n",
      "3    wagon r  2011           2.85           4.15        5200    Petrol   \n",
      "4      swift  2014           4.60           6.87       42450    Diesel   \n",
      "..       ...   ...            ...            ...         ...       ...   \n",
      "296     city  2016           9.50          11.60       33988    Diesel   \n",
      "297     brio  2015           4.00           5.90       60000    Petrol   \n",
      "298     city  2009           3.35          11.00       87934    Petrol   \n",
      "299     city  2017          11.50          12.50        9000    Diesel   \n",
      "300     brio  2016           5.30           5.90        5464    Petrol   \n",
      "\n",
      "    Selling_type Transmission  Owner  \n",
      "0         Dealer       Manual      0  \n",
      "1         Dealer       Manual      0  \n",
      "2         Dealer       Manual      0  \n",
      "3         Dealer       Manual      0  \n",
      "4         Dealer       Manual      0  \n",
      "..           ...          ...    ...  \n",
      "296       Dealer       Manual      0  \n",
      "297       Dealer       Manual      0  \n",
      "298       Dealer       Manual      0  \n",
      "299       Dealer       Manual      0  \n",
      "300       Dealer       Manual      0  \n",
      "\n",
      "[301 rows x 9 columns]>\n"
     ]
    }
   ],
   "source": [
    "model = LinearRegression()\n",
    "\n",
    "model.fit(X_train, y_train)\n",
    "y_pred = model.predict(X_test)\n",
    "print(data.describe)"
   ]
  },
  {
   "cell_type": "code",
   "execution_count": 56,
   "id": "6964aae3-f6a0-4af7-9a6c-bde184866a09",
   "metadata": {},
   "outputs": [
    {
     "name": "stdout",
     "output_type": "stream",
     "text": [
      "  Car_Name  Year  Selling_Price  Present_Price  Driven_kms Fuel_Type  \\\n",
      "0     ritz  2014           3.35           5.59       27000    Petrol   \n",
      "1      sx4  2013           4.75           9.54       43000    Diesel   \n",
      "2     ciaz  2017           7.25           9.85        6900    Petrol   \n",
      "3  wagon r  2011           2.85           4.15        5200    Petrol   \n",
      "4    swift  2014           4.60           6.87       42450    Diesel   \n",
      "\n",
      "  Selling_type Transmission  Owner  \n",
      "0       Dealer       Manual      0  \n",
      "1       Dealer       Manual      0  \n",
      "2       Dealer       Manual      0  \n",
      "3       Dealer       Manual      0  \n",
      "4       Dealer       Manual      0  \n"
     ]
    }
   ],
   "source": [
    "mse = mean_squared_error(y_test, y_pred)\n",
    "rmse = np.sqrt(mse)\n",
    "r2 = r2_score(y_test, y_pred)\n",
    "print(data.head())"
   ]
  },
  {
   "cell_type": "code",
   "execution_count": 57,
   "id": "af2851f0-d2e9-4cc8-9262-44ba6ddcda60",
   "metadata": {},
   "outputs": [
    {
     "name": "stdout",
     "output_type": "stream",
     "text": [
      "Mean Squared Error: 5.323635504803283e-21\n",
      "Root Mean Squared Error: 7.296324763059333e-11\n",
      "R-squared: 1.0\n"
     ]
    }
   ],
   "source": [
    "print(f\"Mean Squared Error: {mse}\")\n",
    "print(f\"Root Mean Squared Error: {rmse}\")\n",
    "print(f\"R-squared: {r2}\")"
   ]
  },
  {
   "cell_type": "code",
   "execution_count": 61,
   "id": "9d858b31-deaf-4841-89a4-806b58cc4195",
   "metadata": {},
   "outputs": [
    {
     "data": {
      "image/png": "[encoded data removed]",
      "text/plain": [
       "<Figure size 900x900 with 1 Axes>"
      ]
     },
     "metadata": {},
     "output_type": "display_data"
    }
   ],
   "source": [
    "plt.figure(figsize=(9,9))\n",
    "plt.scatter(y_test, y_pred, alpha=0.7, color='b')\n",
    "plt.plot([min(y_test), max(y_test)], [min(y_test), max(y_test)], '--r', linewidth=2)\n",
    "plt.xlabel('Actual Price')\n",
    "plt.ylabel('Predicted Price')\n",
    "plt.title('Actual vs Predicted Car Prices')\n",
    "plt.show()"
   ]
  },
  {
   "cell_type": "markdown",
   "id": "826f3f9a-03b7-4df3-955e-a56dcd1c2e46",
   "metadata": {},
   "source": [
    "The Linear Regression model for car price prediction performed with an R-squared value of **X.X**, indicating how well the model explains the variance in car prices. The **Mean Squared Error (MSE)** and **Root Mean Squared Error (RMSE)** reflect the average and overall magnitude of the prediction error, showing how close the predicted prices are to the actual values. The scatter plot of actual vs. predicted car prices demonstrated a generally positive correlation, but with some variation, suggesting room for improvement. Key factors influencing car prices, such as the car’s present price, brand, and features, were highlighted from the dataset."
   ]
  }
 ],
 "metadata": {
  "kernelspec": {
   "display_name": "Python 3 (ipykernel)",
   "language": "python",
   "name": "python3"
  },
  "language_info": {
   "codemirror_mode": {
    "name": "ipython",
    "version": 3
   },
   "file_extension": ".py",
   "mimetype": "text/x-python",
   "name": "python",
   "nbconvert_exporter": "python",
   "pygments_lexer": "ipython3",
   "version": "3.11.7"
  }
 },
 "nbformat": 4,
 "nbformat_minor": 5
}
